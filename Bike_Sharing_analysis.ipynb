{
 "cells": [
  {
   "cell_type": "markdown",
   "id": "51b1342d",
   "metadata": {},
   "source": [
    "<h3><center>Model training of bike_sharing</center></h3>"
   ]
  },
  {
   "cell_type": "markdown",
   "id": "e620954d",
   "metadata": {},
   "source": [
    "### First look at data  "
   ]
  },
  {
   "cell_type": "code",
   "execution_count": 43,
   "id": "68b566e1",
   "metadata": {},
   "outputs": [],
   "source": [
    "import pandas as pd\n",
    "import numpy as np\n",
    "import seaborn as sns\n",
    "import matplotlib.pyplot as plt"
   ]
  },
  {
   "cell_type": "code",
   "execution_count": 44,
   "id": "71e71a40",
   "metadata": {},
   "outputs": [],
   "source": [
    "df = pd.read_csv(\"bike_sharing_data_2.csv\")"
   ]
  },
  {
   "cell_type": "code",
   "execution_count": 45,
   "id": "4e2082ce",
   "metadata": {},
   "outputs": [
    {
     "data": {
      "text/html": [
       "<div>\n",
       "<style scoped>\n",
       "    .dataframe tbody tr th:only-of-type {\n",
       "        vertical-align: middle;\n",
       "    }\n",
       "\n",
       "    .dataframe tbody tr th {\n",
       "        vertical-align: top;\n",
       "    }\n",
       "\n",
       "    .dataframe thead th {\n",
       "        text-align: right;\n",
       "    }\n",
       "</style>\n",
       "<table border=\"1\" class=\"dataframe\">\n",
       "  <thead>\n",
       "    <tr style=\"text-align: right;\">\n",
       "      <th></th>\n",
       "      <th>instant</th>\n",
       "      <th>dteday</th>\n",
       "      <th>season</th>\n",
       "      <th>yr</th>\n",
       "      <th>mnth</th>\n",
       "      <th>hr</th>\n",
       "      <th>holiday</th>\n",
       "      <th>weekday</th>\n",
       "      <th>workingday</th>\n",
       "      <th>weathersit</th>\n",
       "      <th>temp</th>\n",
       "      <th>atemp</th>\n",
       "      <th>hum</th>\n",
       "      <th>windspeed</th>\n",
       "      <th>casual</th>\n",
       "      <th>registered</th>\n",
       "      <th>cnt</th>\n",
       "    </tr>\n",
       "  </thead>\n",
       "  <tbody>\n",
       "    <tr>\n",
       "      <th>0</th>\n",
       "      <td>1</td>\n",
       "      <td>2011-01-01</td>\n",
       "      <td>1</td>\n",
       "      <td>0.0</td>\n",
       "      <td>1.0</td>\n",
       "      <td>0.0</td>\n",
       "      <td>0.0</td>\n",
       "      <td>6.0</td>\n",
       "      <td>0.0</td>\n",
       "      <td>1.0</td>\n",
       "      <td>0.24</td>\n",
       "      <td>0.2879</td>\n",
       "      <td>0.81</td>\n",
       "      <td>0.0</td>\n",
       "      <td>3.0</td>\n",
       "      <td>13</td>\n",
       "      <td>16.0</td>\n",
       "    </tr>\n",
       "    <tr>\n",
       "      <th>1</th>\n",
       "      <td>2</td>\n",
       "      <td>2011-01-01</td>\n",
       "      <td>1</td>\n",
       "      <td>0.0</td>\n",
       "      <td>1.0</td>\n",
       "      <td>1.0</td>\n",
       "      <td>0.0</td>\n",
       "      <td>6.0</td>\n",
       "      <td>0.0</td>\n",
       "      <td>1.0</td>\n",
       "      <td>0.22</td>\n",
       "      <td>0.2727</td>\n",
       "      <td>0.80</td>\n",
       "      <td>0.0</td>\n",
       "      <td>8.0</td>\n",
       "      <td>32</td>\n",
       "      <td>40.0</td>\n",
       "    </tr>\n",
       "    <tr>\n",
       "      <th>2</th>\n",
       "      <td>3</td>\n",
       "      <td>2011-01-01</td>\n",
       "      <td>1</td>\n",
       "      <td>0.0</td>\n",
       "      <td>1.0</td>\n",
       "      <td>2.0</td>\n",
       "      <td>0.0</td>\n",
       "      <td>6.0</td>\n",
       "      <td>0.0</td>\n",
       "      <td>1.0</td>\n",
       "      <td>0.22</td>\n",
       "      <td>0.2727</td>\n",
       "      <td>0.80</td>\n",
       "      <td>0.0</td>\n",
       "      <td>5.0</td>\n",
       "      <td>27</td>\n",
       "      <td>32.0</td>\n",
       "    </tr>\n",
       "    <tr>\n",
       "      <th>3</th>\n",
       "      <td>4</td>\n",
       "      <td>2011-01-01</td>\n",
       "      <td>1</td>\n",
       "      <td>0.0</td>\n",
       "      <td>1.0</td>\n",
       "      <td>3.0</td>\n",
       "      <td>0.0</td>\n",
       "      <td>6.0</td>\n",
       "      <td>0.0</td>\n",
       "      <td>1.0</td>\n",
       "      <td>0.24</td>\n",
       "      <td>0.2879</td>\n",
       "      <td>0.75</td>\n",
       "      <td>0.0</td>\n",
       "      <td>3.0</td>\n",
       "      <td>10</td>\n",
       "      <td>13.0</td>\n",
       "    </tr>\n",
       "    <tr>\n",
       "      <th>4</th>\n",
       "      <td>5</td>\n",
       "      <td>2011-01-01</td>\n",
       "      <td>1</td>\n",
       "      <td>0.0</td>\n",
       "      <td>1.0</td>\n",
       "      <td>4.0</td>\n",
       "      <td>0.0</td>\n",
       "      <td>6.0</td>\n",
       "      <td>0.0</td>\n",
       "      <td>1.0</td>\n",
       "      <td>0.24</td>\n",
       "      <td>0.2879</td>\n",
       "      <td>0.75</td>\n",
       "      <td>0.0</td>\n",
       "      <td>0.0</td>\n",
       "      <td>1</td>\n",
       "      <td>1.0</td>\n",
       "    </tr>\n",
       "  </tbody>\n",
       "</table>\n",
       "</div>"
      ],
      "text/plain": [
       "   instant      dteday  season   yr  mnth   hr  holiday  weekday  workingday  \\\n",
       "0        1  2011-01-01       1  0.0   1.0  0.0      0.0      6.0         0.0   \n",
       "1        2  2011-01-01       1  0.0   1.0  1.0      0.0      6.0         0.0   \n",
       "2        3  2011-01-01       1  0.0   1.0  2.0      0.0      6.0         0.0   \n",
       "3        4  2011-01-01       1  0.0   1.0  3.0      0.0      6.0         0.0   \n",
       "4        5  2011-01-01       1  0.0   1.0  4.0      0.0      6.0         0.0   \n",
       "\n",
       "   weathersit  temp   atemp   hum  windspeed  casual  registered   cnt  \n",
       "0         1.0  0.24  0.2879  0.81        0.0     3.0          13  16.0  \n",
       "1         1.0  0.22  0.2727  0.80        0.0     8.0          32  40.0  \n",
       "2         1.0  0.22  0.2727  0.80        0.0     5.0          27  32.0  \n",
       "3         1.0  0.24  0.2879  0.75        0.0     3.0          10  13.0  \n",
       "4         1.0  0.24  0.2879  0.75        0.0     0.0           1   1.0  "
      ]
     },
     "execution_count": 45,
     "metadata": {},
     "output_type": "execute_result"
    }
   ],
   "source": [
    "df.head()"
   ]
  },
  {
   "cell_type": "code",
   "execution_count": 46,
   "id": "e463e067",
   "metadata": {},
   "outputs": [
    {
     "name": "stdout",
     "output_type": "stream",
     "text": [
      "<class 'pandas.core.frame.DataFrame'>\n",
      "RangeIndex: 6918 entries, 0 to 6917\n",
      "Data columns (total 17 columns):\n",
      " #   Column      Non-Null Count  Dtype  \n",
      "---  ------      --------------  -----  \n",
      " 0   instant     6918 non-null   int64  \n",
      " 1   dteday      6918 non-null   object \n",
      " 2   season      6918 non-null   int64  \n",
      " 3   yr          6912 non-null   float64\n",
      " 4   mnth        6907 non-null   float64\n",
      " 5   hr          6904 non-null   float64\n",
      " 6   holiday     6901 non-null   float64\n",
      " 7   weekday     6893 non-null   float64\n",
      " 8   workingday  6914 non-null   float64\n",
      " 9   weathersit  6894 non-null   float64\n",
      " 10  temp        6882 non-null   float64\n",
      " 11  atemp       6892 non-null   float64\n",
      " 12  hum         6909 non-null   float64\n",
      " 13  windspeed   6911 non-null   float64\n",
      " 14  casual      6912 non-null   float64\n",
      " 15  registered  6918 non-null   int64  \n",
      " 16  cnt         6915 non-null   float64\n",
      "dtypes: float64(13), int64(3), object(1)\n",
      "memory usage: 918.9+ KB\n"
     ]
    }
   ],
   "source": [
    "df.info()"
   ]
  },
  {
   "cell_type": "code",
   "execution_count": 47,
   "id": "366a8bd7",
   "metadata": {},
   "outputs": [
    {
     "data": {
      "text/html": [
       "<div>\n",
       "<style scoped>\n",
       "    .dataframe tbody tr th:only-of-type {\n",
       "        vertical-align: middle;\n",
       "    }\n",
       "\n",
       "    .dataframe tbody tr th {\n",
       "        vertical-align: top;\n",
       "    }\n",
       "\n",
       "    .dataframe thead th {\n",
       "        text-align: right;\n",
       "    }\n",
       "</style>\n",
       "<table border=\"1\" class=\"dataframe\">\n",
       "  <thead>\n",
       "    <tr style=\"text-align: right;\">\n",
       "      <th></th>\n",
       "      <th>count</th>\n",
       "      <th>mean</th>\n",
       "      <th>std</th>\n",
       "      <th>min</th>\n",
       "      <th>25%</th>\n",
       "      <th>50%</th>\n",
       "      <th>75%</th>\n",
       "      <th>max</th>\n",
       "    </tr>\n",
       "  </thead>\n",
       "  <tbody>\n",
       "    <tr>\n",
       "      <th>instant</th>\n",
       "      <td>6918.0</td>\n",
       "      <td>3459.500000</td>\n",
       "      <td>1997.198913</td>\n",
       "      <td>1.00</td>\n",
       "      <td>1730.2500</td>\n",
       "      <td>3459.5000</td>\n",
       "      <td>5188.7500</td>\n",
       "      <td>6918.0000</td>\n",
       "    </tr>\n",
       "    <tr>\n",
       "      <th>season</th>\n",
       "      <td>6918.0</td>\n",
       "      <td>2.255710</td>\n",
       "      <td>0.951829</td>\n",
       "      <td>1.00</td>\n",
       "      <td>1.0000</td>\n",
       "      <td>2.0000</td>\n",
       "      <td>3.0000</td>\n",
       "      <td>4.0000</td>\n",
       "    </tr>\n",
       "    <tr>\n",
       "      <th>yr</th>\n",
       "      <td>6912.0</td>\n",
       "      <td>0.000000</td>\n",
       "      <td>0.000000</td>\n",
       "      <td>0.00</td>\n",
       "      <td>0.0000</td>\n",
       "      <td>0.0000</td>\n",
       "      <td>0.0000</td>\n",
       "      <td>0.0000</td>\n",
       "    </tr>\n",
       "    <tr>\n",
       "      <th>mnth</th>\n",
       "      <td>6907.0</td>\n",
       "      <td>5.397133</td>\n",
       "      <td>2.764993</td>\n",
       "      <td>1.00</td>\n",
       "      <td>3.0000</td>\n",
       "      <td>5.0000</td>\n",
       "      <td>8.0000</td>\n",
       "      <td>10.0000</td>\n",
       "    </tr>\n",
       "    <tr>\n",
       "      <th>hr</th>\n",
       "      <td>6904.0</td>\n",
       "      <td>11.576912</td>\n",
       "      <td>6.906855</td>\n",
       "      <td>0.00</td>\n",
       "      <td>6.0000</td>\n",
       "      <td>12.0000</td>\n",
       "      <td>18.0000</td>\n",
       "      <td>23.0000</td>\n",
       "    </tr>\n",
       "    <tr>\n",
       "      <th>holiday</th>\n",
       "      <td>6901.0</td>\n",
       "      <td>0.024054</td>\n",
       "      <td>0.153229</td>\n",
       "      <td>0.00</td>\n",
       "      <td>0.0000</td>\n",
       "      <td>0.0000</td>\n",
       "      <td>0.0000</td>\n",
       "      <td>1.0000</td>\n",
       "    </tr>\n",
       "    <tr>\n",
       "      <th>weekday</th>\n",
       "      <td>6893.0</td>\n",
       "      <td>2.997244</td>\n",
       "      <td>2.004093</td>\n",
       "      <td>0.00</td>\n",
       "      <td>1.0000</td>\n",
       "      <td>3.0000</td>\n",
       "      <td>5.0000</td>\n",
       "      <td>6.0000</td>\n",
       "    </tr>\n",
       "    <tr>\n",
       "      <th>workingday</th>\n",
       "      <td>6914.0</td>\n",
       "      <td>0.687880</td>\n",
       "      <td>0.463392</td>\n",
       "      <td>0.00</td>\n",
       "      <td>0.0000</td>\n",
       "      <td>1.0000</td>\n",
       "      <td>1.0000</td>\n",
       "      <td>1.0000</td>\n",
       "    </tr>\n",
       "    <tr>\n",
       "      <th>weathersit</th>\n",
       "      <td>6894.0</td>\n",
       "      <td>1.437772</td>\n",
       "      <td>0.651395</td>\n",
       "      <td>1.00</td>\n",
       "      <td>1.0000</td>\n",
       "      <td>1.0000</td>\n",
       "      <td>2.0000</td>\n",
       "      <td>4.0000</td>\n",
       "    </tr>\n",
       "    <tr>\n",
       "      <th>temp</th>\n",
       "      <td>6882.0</td>\n",
       "      <td>0.520070</td>\n",
       "      <td>0.205009</td>\n",
       "      <td>0.02</td>\n",
       "      <td>0.3400</td>\n",
       "      <td>0.5600</td>\n",
       "      <td>0.6800</td>\n",
       "      <td>0.9600</td>\n",
       "    </tr>\n",
       "    <tr>\n",
       "      <th>atemp</th>\n",
       "      <td>6892.0</td>\n",
       "      <td>0.494415</td>\n",
       "      <td>0.184090</td>\n",
       "      <td>0.00</td>\n",
       "      <td>0.3333</td>\n",
       "      <td>0.5303</td>\n",
       "      <td>0.6364</td>\n",
       "      <td>1.0000</td>\n",
       "    </tr>\n",
       "    <tr>\n",
       "      <th>hum</th>\n",
       "      <td>6909.0</td>\n",
       "      <td>0.637557</td>\n",
       "      <td>0.200765</td>\n",
       "      <td>0.00</td>\n",
       "      <td>0.4800</td>\n",
       "      <td>0.6400</td>\n",
       "      <td>0.8000</td>\n",
       "      <td>1.0000</td>\n",
       "    </tr>\n",
       "    <tr>\n",
       "      <th>windspeed</th>\n",
       "      <td>6911.0</td>\n",
       "      <td>0.195395</td>\n",
       "      <td>0.122688</td>\n",
       "      <td>0.00</td>\n",
       "      <td>0.1045</td>\n",
       "      <td>0.1940</td>\n",
       "      <td>0.2836</td>\n",
       "      <td>0.8507</td>\n",
       "    </tr>\n",
       "    <tr>\n",
       "      <th>casual</th>\n",
       "      <td>6912.0</td>\n",
       "      <td>31.181858</td>\n",
       "      <td>40.745595</td>\n",
       "      <td>0.00</td>\n",
       "      <td>3.0000</td>\n",
       "      <td>16.0000</td>\n",
       "      <td>42.0000</td>\n",
       "      <td>272.0000</td>\n",
       "    </tr>\n",
       "    <tr>\n",
       "      <th>registered</th>\n",
       "      <td>6918.0</td>\n",
       "      <td>115.331454</td>\n",
       "      <td>110.470845</td>\n",
       "      <td>0.00</td>\n",
       "      <td>27.0000</td>\n",
       "      <td>89.0000</td>\n",
       "      <td>167.0000</td>\n",
       "      <td>567.0000</td>\n",
       "    </tr>\n",
       "    <tr>\n",
       "      <th>cnt</th>\n",
       "      <td>6915.0</td>\n",
       "      <td>146.448301</td>\n",
       "      <td>137.013296</td>\n",
       "      <td>1.00</td>\n",
       "      <td>32.0000</td>\n",
       "      <td>110.0000</td>\n",
       "      <td>215.5000</td>\n",
       "      <td>651.0000</td>\n",
       "    </tr>\n",
       "  </tbody>\n",
       "</table>\n",
       "</div>"
      ],
      "text/plain": [
       "             count         mean          std   min        25%        50%  \\\n",
       "instant     6918.0  3459.500000  1997.198913  1.00  1730.2500  3459.5000   \n",
       "season      6918.0     2.255710     0.951829  1.00     1.0000     2.0000   \n",
       "yr          6912.0     0.000000     0.000000  0.00     0.0000     0.0000   \n",
       "mnth        6907.0     5.397133     2.764993  1.00     3.0000     5.0000   \n",
       "hr          6904.0    11.576912     6.906855  0.00     6.0000    12.0000   \n",
       "holiday     6901.0     0.024054     0.153229  0.00     0.0000     0.0000   \n",
       "weekday     6893.0     2.997244     2.004093  0.00     1.0000     3.0000   \n",
       "workingday  6914.0     0.687880     0.463392  0.00     0.0000     1.0000   \n",
       "weathersit  6894.0     1.437772     0.651395  1.00     1.0000     1.0000   \n",
       "temp        6882.0     0.520070     0.205009  0.02     0.3400     0.5600   \n",
       "atemp       6892.0     0.494415     0.184090  0.00     0.3333     0.5303   \n",
       "hum         6909.0     0.637557     0.200765  0.00     0.4800     0.6400   \n",
       "windspeed   6911.0     0.195395     0.122688  0.00     0.1045     0.1940   \n",
       "casual      6912.0    31.181858    40.745595  0.00     3.0000    16.0000   \n",
       "registered  6918.0   115.331454   110.470845  0.00    27.0000    89.0000   \n",
       "cnt         6915.0   146.448301   137.013296  1.00    32.0000   110.0000   \n",
       "\n",
       "                  75%        max  \n",
       "instant     5188.7500  6918.0000  \n",
       "season         3.0000     4.0000  \n",
       "yr             0.0000     0.0000  \n",
       "mnth           8.0000    10.0000  \n",
       "hr            18.0000    23.0000  \n",
       "holiday        0.0000     1.0000  \n",
       "weekday        5.0000     6.0000  \n",
       "workingday     1.0000     1.0000  \n",
       "weathersit     2.0000     4.0000  \n",
       "temp           0.6800     0.9600  \n",
       "atemp          0.6364     1.0000  \n",
       "hum            0.8000     1.0000  \n",
       "windspeed      0.2836     0.8507  \n",
       "casual        42.0000   272.0000  \n",
       "registered   167.0000   567.0000  \n",
       "cnt          215.5000   651.0000  "
      ]
     },
     "execution_count": 47,
     "metadata": {},
     "output_type": "execute_result"
    }
   ],
   "source": [
    "df.describe().T"
   ]
  },
  {
   "cell_type": "markdown",
   "id": "ab1cc05e",
   "metadata": {},
   "source": [
    "### Data Preparation"
   ]
  },
  {
   "cell_type": "markdown",
   "id": "15ba275c",
   "metadata": {},
   "source": [
    "1. Handling missing values"
   ]
  },
  {
   "cell_type": "code",
   "execution_count": 48,
   "id": "559caf02",
   "metadata": {},
   "outputs": [
    {
     "data": {
      "text/plain": [
       "instant        0\n",
       "dteday         0\n",
       "season         0\n",
       "yr             6\n",
       "mnth          11\n",
       "hr            14\n",
       "holiday       17\n",
       "weekday       25\n",
       "workingday     4\n",
       "weathersit    24\n",
       "temp          36\n",
       "atemp         26\n",
       "hum            9\n",
       "windspeed      7\n",
       "casual         6\n",
       "registered     0\n",
       "cnt            3\n",
       "dtype: int64"
      ]
     },
     "execution_count": 48,
     "metadata": {},
     "output_type": "execute_result"
    }
   ],
   "source": [
    "df.isnull().sum()"
   ]
  },
  {
   "cell_type": "code",
   "execution_count": 49,
   "id": "9e348e5a",
   "metadata": {},
   "outputs": [],
   "source": [
    "#Заменяем пустые строки со средним значением\n",
    "df['temp'].fillna(df['temp'].mean(), inplace=True)\n",
    "df['atemp'].fillna(df['atemp'].mean(), inplace=True)\n",
    "df['hum'].fillna(df['hum'].mean(), inplace=True)\n",
    "df['windspeed'].fillna(df['windspeed'].mean(), inplace=True)"
   ]
  },
  {
   "cell_type": "code",
   "execution_count": 50,
   "id": "d50f2f24",
   "metadata": {},
   "outputs": [
    {
     "data": {
      "text/plain": [
       "instant        0\n",
       "dteday         0\n",
       "season         0\n",
       "yr             6\n",
       "mnth          11\n",
       "hr            14\n",
       "holiday       17\n",
       "weekday       25\n",
       "workingday     4\n",
       "weathersit    24\n",
       "temp           0\n",
       "atemp          0\n",
       "hum            0\n",
       "windspeed      0\n",
       "casual         6\n",
       "registered     0\n",
       "cnt            3\n",
       "dtype: int64"
      ]
     },
     "execution_count": 50,
     "metadata": {},
     "output_type": "execute_result"
    }
   ],
   "source": [
    "df.isnull().sum()"
   ]
  },
  {
   "cell_type": "code",
   "execution_count": 51,
   "id": "ecea8996",
   "metadata": {},
   "outputs": [],
   "source": [
    "df.dropna(inplace = True)"
   ]
  },
  {
   "cell_type": "code",
   "execution_count": 52,
   "id": "b217f661",
   "metadata": {},
   "outputs": [
    {
     "data": {
      "text/plain": [
       "instant       False\n",
       "dteday        False\n",
       "season        False\n",
       "yr            False\n",
       "mnth          False\n",
       "hr            False\n",
       "holiday       False\n",
       "weekday       False\n",
       "workingday    False\n",
       "weathersit    False\n",
       "temp          False\n",
       "atemp         False\n",
       "hum           False\n",
       "windspeed     False\n",
       "casual        False\n",
       "registered    False\n",
       "cnt           False\n",
       "dtype: bool"
      ]
     },
     "execution_count": 52,
     "metadata": {},
     "output_type": "execute_result"
    }
   ],
   "source": [
    "df.isnull().any()"
   ]
  },
  {
   "cell_type": "code",
   "execution_count": 53,
   "id": "c5a3edbd",
   "metadata": {},
   "outputs": [
    {
     "name": "stdout",
     "output_type": "stream",
     "text": [
      "<class 'pandas.core.frame.DataFrame'>\n",
      "Int64Index: 6825 entries, 0 to 6917\n",
      "Data columns (total 17 columns):\n",
      " #   Column      Non-Null Count  Dtype  \n",
      "---  ------      --------------  -----  \n",
      " 0   instant     6825 non-null   int64  \n",
      " 1   dteday      6825 non-null   object \n",
      " 2   season      6825 non-null   int64  \n",
      " 3   yr          6825 non-null   float64\n",
      " 4   mnth        6825 non-null   float64\n",
      " 5   hr          6825 non-null   float64\n",
      " 6   holiday     6825 non-null   float64\n",
      " 7   weekday     6825 non-null   float64\n",
      " 8   workingday  6825 non-null   float64\n",
      " 9   weathersit  6825 non-null   float64\n",
      " 10  temp        6825 non-null   float64\n",
      " 11  atemp       6825 non-null   float64\n",
      " 12  hum         6825 non-null   float64\n",
      " 13  windspeed   6825 non-null   float64\n",
      " 14  casual      6825 non-null   float64\n",
      " 15  registered  6825 non-null   int64  \n",
      " 16  cnt         6825 non-null   float64\n",
      "dtypes: float64(13), int64(3), object(1)\n",
      "memory usage: 959.8+ KB\n"
     ]
    }
   ],
   "source": [
    "df.info()"
   ]
  },
  {
   "cell_type": "markdown",
   "id": "bb730d18",
   "metadata": {},
   "source": [
    "2. Outliers"
   ]
  },
  {
   "cell_type": "code",
   "execution_count": 54,
   "id": "191332f4",
   "metadata": {},
   "outputs": [
    {
     "data": {
      "text/plain": [
       "<AxesSubplot:xlabel='temp'>"
      ]
     },
     "execution_count": 54,
     "metadata": {},
     "output_type": "execute_result"
    },
    {
     "data": {
      "image/png": "[encoded data removed]",
      "text/plain": [
       "<Figure size 640x480 with 1 Axes>"
      ]
     },
     "metadata": {},
     "output_type": "display_data"
    }
   ],
   "source": [
    "sns.boxplot(x=df['temp'])"
   ]
  },
  {
   "cell_type": "code",
   "execution_count": 55,
   "id": "a7303b23",
   "metadata": {},
   "outputs": [
    {
     "data": {
      "text/plain": [
       "<AxesSubplot:xlabel='atemp'>"
      ]
     },
     "execution_count": 55,
     "metadata": {},
     "output_type": "execute_result"
    },
    {
     "data": {
      "image/png": "[encoded data removed]",
      "text/plain": [
       "<Figure size 640x480 with 1 Axes>"
      ]
     },
     "metadata": {},
     "output_type": "display_data"
    }
   ],
   "source": [
    "sns.boxplot(x=df['atemp'])"
   ]
  },
  {
   "cell_type": "code",
   "execution_count": 56,
   "id": "73bcfc13",
   "metadata": {},
   "outputs": [
    {
     "data": {
      "text/plain": [
       "<AxesSubplot:xlabel='hum'>"
      ]
     },
     "execution_count": 56,
     "metadata": {},
     "output_type": "execute_result"
    },
    {
     "data": {
      "image/png": "[encoded data removed]",
      "text/plain": [
       "<Figure size 640x480 with 1 Axes>"
      ]
     },
     "metadata": {},
     "output_type": "display_data"
    }
   ],
   "source": [
    "sns.boxplot(x=df['hum'])"
   ]
  },
  {
   "cell_type": "code",
   "execution_count": 57,
   "id": "f8fa6823",
   "metadata": {},
   "outputs": [],
   "source": [
    "Q1 = df['hum'].quantile(0.25)\n",
    "Q3 = df['hum'].quantile(0.75)\n",
    "IQR = Q3 - Q1\n",
    "\n",
    "threshold_low = Q1 - 1.5 * IQR\n",
    "threshold_high = Q3 + 1.5 * IQR\n",
    "\n",
    "df = df[(df['hum'] >= threshold_low) & (df['hum'] <= threshold_high)]\n"
   ]
  },
  {
   "cell_type": "code",
   "execution_count": 58,
   "id": "fcbdcd3e",
   "metadata": {},
   "outputs": [
    {
     "data": {
      "text/plain": [
       "<AxesSubplot:xlabel='windspeed'>"
      ]
     },
     "execution_count": 58,
     "metadata": {},
     "output_type": "execute_result"
    },
    {
     "data": {
      "image/png": "[encoded data removed]",
      "text/plain": [
       "<Figure size 640x480 with 1 Axes>"
      ]
     },
     "metadata": {},
     "output_type": "display_data"
    }
   ],
   "source": [
    "sns.boxplot(x=df['windspeed'])"
   ]
  },
  {
   "cell_type": "code",
   "execution_count": 59,
   "id": "0ccf9db5",
   "metadata": {},
   "outputs": [],
   "source": [
    "Q1 = df['windspeed'].quantile(0.25)\n",
    "Q3 = df['windspeed'].quantile(0.75)\n",
    "IQR = Q3 - Q1\n",
    "\n",
    "threshold_low = Q1 - 1.5 * IQR\n",
    "threshold_high = Q3 + 1.5 * IQR\n",
    "\n",
    "df = df[(df['windspeed'] >= threshold_low) & (df['windspeed'] <= threshold_high)]\n"
   ]
  },
  {
   "cell_type": "markdown",
   "id": "1791f6fc",
   "metadata": {},
   "source": [
    "3. Irrelevant data"
   ]
  },
  {
   "cell_type": "code",
   "execution_count": 60,
   "id": "491e33da",
   "metadata": {},
   "outputs": [],
   "source": [
    "df.drop([\"instant\", \"casual\", \"dteday\"], axis=1, inplace=True)"
   ]
  },
  {
   "cell_type": "markdown",
   "id": "3bab1c2d",
   "metadata": {},
   "source": [
    "4. Format, data types. "
   ]
  },
  {
   "cell_type": "code",
   "execution_count": 61,
   "id": "52d48b8e",
   "metadata": {},
   "outputs": [
    {
     "name": "stdout",
     "output_type": "stream",
     "text": [
      "<class 'pandas.core.frame.DataFrame'>\n",
      "Int64Index: 6756 entries, 0 to 6917\n",
      "Data columns (total 14 columns):\n",
      " #   Column      Non-Null Count  Dtype  \n",
      "---  ------      --------------  -----  \n",
      " 0   season      6756 non-null   int64  \n",
      " 1   yr          6756 non-null   float64\n",
      " 2   mnth        6756 non-null   float64\n",
      " 3   hr          6756 non-null   float64\n",
      " 4   holiday     6756 non-null   float64\n",
      " 5   weekday     6756 non-null   float64\n",
      " 6   workingday  6756 non-null   float64\n",
      " 7   weathersit  6756 non-null   float64\n",
      " 8   temp        6756 non-null   float64\n",
      " 9   atemp       6756 non-null   float64\n",
      " 10  hum         6756 non-null   float64\n",
      " 11  windspeed   6756 non-null   float64\n",
      " 12  registered  6756 non-null   int64  \n",
      " 13  cnt         6756 non-null   float64\n",
      "dtypes: float64(12), int64(2)\n",
      "memory usage: 791.7 KB\n"
     ]
    }
   ],
   "source": [
    "df.info()"
   ]
  },
  {
   "cell_type": "code",
   "execution_count": 62,
   "id": "df8b601e",
   "metadata": {},
   "outputs": [],
   "source": [
    "df['season'] = df['season'].astype('category')\n",
    "df['yr'] = df['yr'].astype('category')\n",
    "df['mnth'] = df['mnth'].astype('category')\n",
    "df['hr'] = df['hr'].astype('category')\n",
    "df['holiday'] = df['holiday'].astype('category')\n",
    "df['weekday'] = df['weekday'].astype('category')\n",
    "df['workingday'] = df['workingday'].astype('category')\n",
    "df['weathersit'] = df['weathersit'].astype('category')\n",
    "df['cnt'] = df['cnt'].astype('int64')"
   ]
  },
  {
   "cell_type": "markdown",
   "id": "41c66a27",
   "metadata": {},
   "source": [
    "5. Detecting the features and target value, dividing into train and test sets. In the 3 task"
   ]
  },
  {
   "cell_type": "code",
   "execution_count": 63,
   "id": "0d45effd",
   "metadata": {},
   "outputs": [],
   "source": [
    "from sklearn.model_selection import train_test_split"
   ]
  },
  {
   "cell_type": "markdown",
   "id": "21a5f7fc",
   "metadata": {},
   "source": [
    "### Model training and improvement"
   ]
  },
  {
   "cell_type": "code",
   "execution_count": 64,
   "id": "1a8c5472",
   "metadata": {},
   "outputs": [
    {
     "name": "stdout",
     "output_type": "stream",
     "text": [
      "<class 'pandas.core.frame.DataFrame'>\n",
      "Int64Index: 6756 entries, 0 to 6917\n",
      "Data columns (total 14 columns):\n",
      " #   Column      Non-Null Count  Dtype   \n",
      "---  ------      --------------  -----   \n",
      " 0   season      6756 non-null   category\n",
      " 1   yr          6756 non-null   category\n",
      " 2   mnth        6756 non-null   category\n",
      " 3   hr          6756 non-null   category\n",
      " 4   holiday     6756 non-null   category\n",
      " 5   weekday     6756 non-null   category\n",
      " 6   workingday  6756 non-null   category\n",
      " 7   weathersit  6756 non-null   category\n",
      " 8   temp        6756 non-null   float64 \n",
      " 9   atemp       6756 non-null   float64 \n",
      " 10  hum         6756 non-null   float64 \n",
      " 11  windspeed   6756 non-null   float64 \n",
      " 12  registered  6756 non-null   int64   \n",
      " 13  cnt         6756 non-null   int64   \n",
      "dtypes: category(8), float64(4), int64(2)\n",
      "memory usage: 424.5 KB\n"
     ]
    }
   ],
   "source": [
    "df.info()"
   ]
  },
  {
   "cell_type": "markdown",
   "id": "3d556851",
   "metadata": {},
   "source": [
    "<h3>3.1 a. Мы будем использовать 'cnt' as the target value он отображает общее количество арендованных велосипедов. </h3>"
   ]
  },
  {
   "cell_type": "code",
   "execution_count": 65,
   "id": "8cd4f908",
   "metadata": {},
   "outputs": [
    {
     "name": "stdout",
     "output_type": "stream",
     "text": [
      "Mean Squared Error (MSE): 737.7837954697687\n",
      "R-squared (R2): 0.9579548253069955\n"
     ]
    }
   ],
   "source": [
    "from sklearn.linear_model import LinearRegression\n",
    "from sklearn.metrics import mean_squared_error, r2_score\n",
    "\n",
    "lr_model = LinearRegression()\n",
    "\n",
    "X = df.drop([\"cnt\"], axis=1)\n",
    "y = df[\"cnt\"]\n",
    "\n",
    "X_train, X_test, y_train, y_test = train_test_split(X, y, test_size=0.3, random_state=42)\n",
    "\n",
    "lr_model.fit(X_train, y_train)\n",
    "y_pred = lr_model.predict(X_test)\n",
    "\n",
    "mse = mean_squared_error(y_test, y_pred)\n",
    "r2 = r2_score(y_test, y_pred)\n",
    "\n",
    "print(\"Mean Squared Error (MSE):\", mse)\n",
    "print(\"R-squared (R2):\", r2)\n"
   ]
  },
  {
   "cell_type": "markdown",
   "id": "2c445bb7",
   "metadata": {},
   "source": [
    " - В данном случае MSE 737,75 указывает на то, что средняя квадратичная разница между прогнозируемым количеством арендованных велосипедов и фактическим количеством арендованных велосипедов составляет около 707,75.\n",
    " - R2, равный 0,957, показывает, что модель объясняет 95,7% дисперсии целевой переменной, что является очень хорошим показателем.\n",
    " -  низкий показатель MSE и высокий показатель R2 указывают на то, что модель хорошо справляется с прогнозированием целевой переменной."
   ]
  },
  {
   "cell_type": "code",
   "execution_count": 66,
   "id": "93acbf30",
   "metadata": {},
   "outputs": [
    {
     "name": "stdout",
     "output_type": "stream",
     "text": [
      "Mean Squared Error (MSE): 521.0909819621554\n",
      "R-squared (R2): 0.9533154215063114\n"
     ]
    }
   ],
   "source": [
    "X = df.drop([\"registered\"], axis=1)\n",
    "y = df[\"registered\"]\n",
    "\n",
    "X_train, X_test, y_train, y_test = train_test_split(X, y, test_size=0.3, random_state=42)\n",
    "\n",
    "lr_model.fit(X_train, y_train)\n",
    "y_pred = lr_model.predict(X_test)\n",
    "\n",
    "mse = mean_squared_error(y_test, y_pred)\n",
    "r2 = r2_score(y_test, y_pred)\n",
    "\n",
    "print(\"Mean Squared Error (MSE):\", mse)\n",
    "print(\"R-squared (R2):\", r2)"
   ]
  },
  {
   "cell_type": "code",
   "execution_count": 72,
   "id": "6203c6f2",
   "metadata": {},
   "outputs": [
    {
     "name": "stdout",
     "output_type": "stream",
     "text": [
      "Mean Squared Error (MSE): 0.0010752400566238667\n",
      "R-squared (R2): 0.9746466389056812\n"
     ]
    }
   ],
   "source": [
    "X = df.drop([\"temp\"], axis=1)\n",
    "y = df[\"temp\"]\n",
    "\n",
    "X_train, X_test, y_train, y_test = train_test_split(X, y, test_size=0.3, random_state=42)\n",
    "\n",
    "lr_model.fit(X_train, y_train)\n",
    "y_pred = lr_model.predict(X_test)\n",
    "\n",
    "mse = mean_squared_error(y_test, y_pred)\n",
    "r2 = r2_score(y_test, y_pred)\n",
    "\n",
    "print(\"Mean Squared Error (MSE):\", mse)\n",
    "print(\"R-squared (R2):\", r2)"
   ]
  },
  {
   "cell_type": "markdown",
   "id": "1602fbc2",
   "metadata": {},
   "source": [
    "<h3>3.1 b.В данном наборе данных мы можем использовать 'weathersit' в качестве target value, поскольку он содержит информацию о погодной ситуации (от 1 до 4) на момент аренды велосипеда.</h3>"
   ]
  },
  {
   "cell_type": "code",
   "execution_count": 193,
   "id": "649e72f6",
   "metadata": {},
   "outputs": [
    {
     "name": "stdout",
     "output_type": "stream",
     "text": [
      "<class 'pandas.core.frame.DataFrame'>\n",
      "Int64Index: 6825 entries, 0 to 6917\n",
      "Data columns (total 14 columns):\n",
      " #   Column      Non-Null Count  Dtype   \n",
      "---  ------      --------------  -----   \n",
      " 0   season      6825 non-null   category\n",
      " 1   yr          6825 non-null   category\n",
      " 2   mnth        6825 non-null   category\n",
      " 3   hr          6825 non-null   category\n",
      " 4   holiday     6825 non-null   category\n",
      " 5   weekday     6825 non-null   category\n",
      " 6   workingday  6825 non-null   category\n",
      " 7   weathersit  6825 non-null   category\n",
      " 8   temp        6825 non-null   float64 \n",
      " 9   atemp       6825 non-null   float64 \n",
      " 10  hum         6825 non-null   float64 \n",
      " 11  windspeed   6825 non-null   float64 \n",
      " 12  registered  6825 non-null   int64   \n",
      " 13  cnt         6825 non-null   int64   \n",
      "dtypes: category(8), float64(4), int64(2)\n",
      "memory usage: 428.8 KB\n"
     ]
    }
   ],
   "source": [
    "df.info()"
   ]
  },
  {
   "cell_type": "code",
   "execution_count": 68,
   "id": "61baf942",
   "metadata": {},
   "outputs": [
    {
     "name": "stdout",
     "output_type": "stream",
     "text": [
      "Accuracy: 0.6980759743463246\n"
     ]
    }
   ],
   "source": [
    "from sklearn.tree import DecisionTreeClassifier\n",
    "from sklearn.metrics import accuracy_score\n",
    "\n",
    "X = df.drop(['weathersit'], axis=1)\n",
    "y = df['weathersit']\n",
    "\n",
    "X_train, X_test, y_train, y_test = train_test_split(X, y, test_size=0.3, random_state=42)\n",
    "\n",
    "clf = DecisionTreeClassifier(random_state=42)\n",
    "clf.fit(X_train, y_train)\n",
    "\n",
    "y_pred = clf.predict(X_test)\n",
    "\n",
    "accuracy = accuracy_score(y_test, y_pred)\n",
    "print(\"Accuracy:\", accuracy)"
   ]
  },
  {
   "cell_type": "markdown",
   "id": "745fc224",
   "metadata": {},
   "source": [
    "Модель правильно классифицировала 69% образцов в тестовом наборе."
   ]
  },
  {
   "cell_type": "code",
   "execution_count": 69,
   "id": "5547828b",
   "metadata": {},
   "outputs": [
    {
     "name": "stdout",
     "output_type": "stream",
     "text": [
      "Accuracy: 1.0\n"
     ]
    }
   ],
   "source": [
    "X = df.drop(['yr'], axis=1)\n",
    "y = df['yr']\n",
    "\n",
    "X_train, X_test, y_train, y_test = train_test_split(X, y, test_size=0.3, random_state=42)\n",
    "\n",
    "clf = DecisionTreeClassifier(random_state=42)\n",
    "clf.fit(X_train, y_train)\n",
    "\n",
    "y_pred = clf.predict(X_test)\n",
    "\n",
    "accuracy = accuracy_score(y_test, y_pred)\n",
    "print(\"Accuracy:\", accuracy)"
   ]
  },
  {
   "cell_type": "code",
   "execution_count": 71,
   "id": "c31993d7",
   "metadata": {},
   "outputs": [
    {
     "name": "stdout",
     "output_type": "stream",
     "text": [
      "Accuracy: 0.49876665022200295\n"
     ]
    }
   ],
   "source": [
    "X = df.drop(['weekday'], axis=1)\n",
    "y = df['weekday']\n",
    "\n",
    "X_train, X_test, y_train, y_test = train_test_split(X, y, test_size=0.3, random_state=42)\n",
    "\n",
    "clf = DecisionTreeClassifier(random_state=42)\n",
    "clf.fit(X_train, y_train)\n",
    "\n",
    "y_pred = clf.predict(X_test)\n",
    "\n",
    "accuracy = accuracy_score(y_test, y_pred)\n",
    "print(\"Accuracy:\", accuracy)"
   ]
  },
  {
   "cell_type": "markdown",
   "id": "24d733ec",
   "metadata": {},
   "source": [
    "<h3>3.2 Improve the models </h3>"
   ]
  },
  {
   "cell_type": "markdown",
   "id": "1146ca99",
   "metadata": {},
   "source": [
    "1. Когда я использовал LinearRegression() модель показал хорошие показатели target value.\n",
    "2. Когда я использовал DecisionTreeClassifier(), я не добавил дополнительных параметров как max_depth, criterion и т.д. В следующем коде я определяю параметры и с помощью Grid Search Cross Validation мы можем найти лучшие параметры для наилучшей точности. "
   ]
  },
  {
   "cell_type": "code",
   "execution_count": 236,
   "id": "81dbe696",
   "metadata": {},
   "outputs": [
    {
     "name": "stdout",
     "output_type": "stream",
     "text": [
      "Accuracy: 0.72314453125\n",
      "Best Parameters: {'criterion': 'entropy', 'max_depth': 10, 'max_features': None, 'min_impurity_decrease': 0.0, 'min_samples_leaf': 2, 'min_samples_split': 2, 'splitter': 'random'}\n"
     ]
    }
   ],
   "source": [
    "from sklearn.model_selection import GridSearchCV\n",
    "\n",
    "X = df.drop(['weathersit'], axis=1)\n",
    "y = df['weathersit']\n",
    "\n",
    "X_train, X_test, y_train, y_test = train_test_split(X, y, test_size=0.3, random_state=42)\n",
    "\n",
    "param_grid = {\n",
    "    'criterion': ['gini', 'entropy'],\n",
    "    'splitter': ['best', 'random'],\n",
    "    'max_depth': [2, 4, 6, 8, 10],\n",
    "    'min_samples_split': [2, 4, 8],\n",
    "    'min_samples_leaf': [1, 2, 4, 8, 16],\n",
    "    'max_features': ['sqrt', 'log2', None],\n",
    "    'min_impurity_decrease': [0.0, 0.1, 0.2]\n",
    "}\n",
    "\n",
    "clf = GridSearchCV(DecisionTreeClassifier(random_state=42), param_grid, cv=5)\n",
    "clf.fit(X_train, y_train)\n",
    "\n",
    "\n",
    "y_pred = clf.predict(X_test)\n",
    "accuracy = accuracy_score(y_test, y_pred)\n",
    "print(\"Accuracy:\", accuracy)\n",
    "\n",
    "\n",
    "print(\"Best Parameters:\", clf.best_params_)\n"
   ]
  },
  {
   "cell_type": "code",
   "execution_count": 237,
   "id": "ad64e7ab",
   "metadata": {},
   "outputs": [
    {
     "name": "stdout",
     "output_type": "stream",
     "text": [
      "Accuracy of the model: 0.8170399832530877\n"
     ]
    }
   ],
   "source": [
    "from sklearn import tree\n",
    "from sklearn import metrics\n",
    "modelEntropy = tree.DecisionTreeClassifier(criterion='entropy',\n",
    "    splitter='best',\n",
    "    max_depth=10,\n",
    "    min_samples_split=2,\n",
    "    min_samples_leaf=2,\n",
    "    max_features=None,\n",
    "    min_impurity_decrease=0.0)\n",
    "\n",
    "modelEntropy.fit(X_train, y_train)\n",
    "y_predicted = modelEntropy.predict(X_train)\n",
    "print(\"Accuracy of the model:\", metrics.accuracy_score(y_train, y_predicted))"
   ]
  },
  {
   "cell_type": "markdown",
   "id": "0977a841",
   "metadata": {},
   "source": [
    "<h1>Summary</h1>"
   ]
  },
  {
   "cell_type": "markdown",
   "id": "35fcaa3c",
   "metadata": {},
   "source": [
    "Мы начали с набора данных, содержащего информацию об аренде велосипедов. Сначала мы провели линейную регрессию для прогнозирования количества прокатов велосипедов на основе различных характеристик, таких как сезон, температура и влажность. Для оценки эффективности модели мы использовали показатели средней квадратичной ошибки (MSE) и R-квадрат (R2). Модель показала MSE 707,75 и R2 0,96, что свидетельствует о высокой эффективности.\n",
    "\n",
    "Далее мы провели классификацию для прогнозирования погодной ситуации на основе тех же характеристик, что и ранее. Мы использовали классификатор Decision Tree Classifier и оценили эффективность модели с помощью показателя точности, который составил 0,69.\n",
    "\n",
    "Чтобы улучшить модель, мы провели настройку гиперпараметров с помощью Grid Search Cross Validation. Мы настроили различные параметры. Настроенная модель достигла точности 0,81, что свидетельствует о значительном улучшении по сравнению с первоначальной моделью.\n",
    "\n",
    "В целом, эта задача продемонстрировала важность выбора подходящих моделей и настройки гиперпараметров для улучшения производительности модели. Она также показала полезность различных метрик, таких как MSE, R2 и точность, для оценки эффективности моделей.\n",
    "\n",
    "В добавок, я добавил несколько интересных прогноза."
   ]
  }
 ],
 "metadata": {
  "kernelspec": {
   "display_name": "Python 3 (ipykernel)",
   "language": "python",
   "name": "python3"
  },
  "language_info": {
   "codemirror_mode": {
    "name": "ipython",
    "version": 3
   },
   "file_extension": ".py",
   "mimetype": "text/x-python",
   "name": "python",
   "nbconvert_exporter": "python",
   "pygments_lexer": "ipython3",
   "version": "3.9.13"
  }
 },
 "nbformat": 4,
 "nbformat_minor": 5
}
